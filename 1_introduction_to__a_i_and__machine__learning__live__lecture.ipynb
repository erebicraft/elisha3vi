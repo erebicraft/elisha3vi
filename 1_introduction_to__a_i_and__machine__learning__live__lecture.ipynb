{
  "cells": [
    {
      "cell_type": "markdown",
      "metadata": {
        "id": "view-in-github",
        "colab_type": "text"
      },
      "source": [
        "<a href=\"https://colab.research.google.com/github/erebicraft/elisha3vi/blob/main/1_introduction_to__a_i_and__machine__learning__live__lecture.ipynb\" target=\"_parent\"><img src=\"https://colab.research.google.com/assets/colab-badge.svg\" alt=\"Open In Colab\"/></a>"
      ]
    },
    {
      "cell_type": "markdown",
      "id": "4417d1a9",
      "metadata": {
        "id": "4417d1a9"
      },
      "source": [
        "# 1.0 👏 Welcome  \n",
        "\n",
        "Dear Dareans, welcome to the exciting world of **AI and Machine Learning**! We are thrilled to have you embark on this transformative journey with us. As your Sensei, we will guide you through the principles, techniques, and tools that form the bedrock of AI and ML. Whether you're new to the field or looking to deepen your understanding, this course is designed to help you build a strong foundation and develop practical skills that will prepare you for real-world applications.\n",
        "\n",
        "This program is a **comprehensive learning experience** divided into modules tailored to progressively enhance your knowledge. Over the coming weeks, you will explore cutting-edge concepts, solve real-world challenges, and build intelligent systems. The course is organized into the following modules:  \n",
        "\n",
        "1. **Introduction to Machine Learning** : The awakening of Intelligence\n",
        "2. **ML Techniques**: Introducing Machine learning algorithms\n",
        "3. **Advanced ML Techniques**: Delve deeper into advanced algorithms.\n",
        "2. **Natural Language Processing**: Teach machines to understand human language.\n",
        "3. **Computer Vision**: Enable machines to see and interpret the world.\n",
        "4. **Big Data and Cloud Computing**: Scale your knowledge to handle massive datasets.\n",
        "5. **Optimization and Deployment**: Refine and implement your solutions.\n",
        "\n",
        "Get ready for an interactive, engaging, and innovative journey into the heart of AI!  \n",
        "\n",
        "---\n",
        "\n",
        "# 1.1 🛠️ Prerequisites  \n",
        "\n",
        "Before diving into this **AI and Machine Learning** course, it is essential to have a solid foundation in the following areas:  \n",
        "\n",
        "- 1. **Python Programming**: The universal language of AI, Python is our primary tool. Knowledge of libraries like NumPy, Pandas, and Matplotlib will be your sword and shield.\n",
        "\n",
        "- 2. **Mathematical Foundations**: Just as a castle is built on a strong foundation, ML relies on linear algebra, calculus, and statistics to stand tall.\n",
        "\n",
        "### 1.1.1  Why These Prerequisites Matter:  \n",
        "These prerequisites ensure that you:  \n",
        "- Have the programming skills to implement machine learning algorithms effectively.  \n",
        "- Are familiar with working on data-driven projects and can handle datasets confidently.  \n",
        "- Can focus on mastering AI and ML concepts without struggling with foundational skills.  \n",
        "\n",
        "If you need to revisit these topics, we recommend reviewing the materials from our **Python Programming** and **Data Science** courses before starting this track.\n",
        "\n",
        "Lets begin!!\n",
        "\n",
        "---\n",
        "\n",
        "### 1.2.5 🎥 Recommended Videos\n",
        "\n",
        "Here are some YouTube videos to help you better understand the different The Basics of machine learning:  \n",
        "\n",
        "1. **[Basics of Machine Learning](https://www.youtube.com/watch?v=ETfWKZIu-sk)**   \n",
        "\n",
        "2. **[Supervised and Unsupervised Explained](https://www.youtube.com/watch?v=W01tIRP_Rqs)**\n",
        "\n",
        "\n",
        "NOTE: I recommend you use **\"Brave Browser\"** to watch any recommended Youtube Videos, to bypass youtube adverts for your convenience. You can download the free Brave Browser from here 👉 [Brave browser](https://www.brave.com/)\n",
        "\n",
        "\n",
        "Also\n",
        "\n",
        "**Important Note**: Due to the intense GPU requirements for training neural networks, we recommend running some examples and mini-projects on Google Colab. This platform provides free access to GPU acceleration, making it an ideal environment for hands-on learning.\n",
        "To get started, we've included a brief training on Google Colab below.\n",
        "\n",
        "👉 [Get started with Google Colaboratory](https://www.youtube.com/watch?v=inN8seMm7UI)\n",
        "\n",
        "\n",
        "# 1.2 🖥️Introduction to Machine Learning  :  The Awakening of Intelligence\n",
        "\n",
        "**Start your journey with the building blocks of Machine Learning!**  \n",
        "\n",
        "### 1.2.1 Learning Outcomes  \n",
        "Upon completing this module, you will:  \n",
        "\n",
        "- Understand the differences between supervised and unsupervised learning.\n",
        "- Appreciate the mathematical foundations necessary for ML e.g linear algebra and Calculus\n",
        "- Learn data preprocessing techniques, including handling missing data, encoding categorical variables, and feature scaling.  \n",
        "- Gain hands-on experience with fundamental regression and classification algorithms, including:\n",
        "\n",
        " - **K-Nearest Neighbors (KNN)**: Picture a friendly neighbor helping you make decisions based on their experience.\n",
        " - **Decision Trees**: A tree that grows based on questions and answers, guiding us to a decision.\n",
        " - **Naïve Bayes**: A probabilistic approach, making informed guesses based on past data.\n",
        " - **Linear and Logistic Regression**: The pioneers of ML, using equations to predict continuous and categorical outcomes.\n",
        " - **Support Vector Machines (SVM)**: A vigilant guard, creating boundaries to distinguish between categories.\n",
        " - Complete a project using multiple linear regression to analyze the relationship between sales and various marketing  promotion strategies\n",
        "\n",
        "This module lays the groundwork for your journey into Machine Learning, equipping you with the core skills required for success.\n"
      ]
    },
    {
      "cell_type": "markdown",
      "id": "74988bef",
      "metadata": {
        "id": "74988bef"
      },
      "source": [
        "### 1.2.2 🤖 What Is Machine Learning?  \n",
        "\n",
        "Machine learning is the **science (and art)** of programming computers so they can learn from data.  \n",
        "\n",
        "#### Definitions:  \n",
        "\n",
        "1. **General Definition:**  \n",
        "   *\"[Machine learning is the] field of study that gives computers the ability to learn without being explicitly programmed.\"*  \n",
        "   — *Arthur Samuel, 1959*  \n",
        "\n",
        "2. **Engineering-Oriented Definition:**  \n",
        "   *\"A computer program is said to learn from experience E with respect to some task T and some performance measure P, if its performance on T, as measured by P, improves with experience E.\"*  \n",
        "   — *Tom Mitchell, 1997*  \n"
      ]
    },
    {
      "cell_type": "markdown",
      "id": "43020b7a",
      "metadata": {
        "id": "43020b7a"
      },
      "source": [
        "\n",
        "\n",
        "A spam filter is a classic example of a machine learning system. Here's how it works:  \n",
        "\n",
        "- The system is trained using **examples of spam emails** (flagged by users) and **examples of regular emails** (non-spam, also known as “ham”).  \n",
        "- The examples used to train the system are called the **training set**, and each individual example is referred to as a **training instance** (or sample).  \n",
        "- The core of the machine learning system—the component that learns and makes predictions—is called the **model**. Examples of models include **neural networks** and **random forests**.  \n",
        "\n",
        "#### Breaking It Down  \n",
        "In this scenario:  \n",
        "- **Task (T):** Flagging spam emails.  \n",
        "- **Experience (E):** Learning from the training data (examples of spam and ham emails).  \n",
        "- **Performance Measure (P):** The ratio of correctly classified emails. This performance metric is known as **accuracy** and is commonly used in classification tasks.  \n",
        "\n",
        "Machine learning allows the spam filter to improve its performance on the task as it gains more experience from the training data.  \n"
      ]
    },
    {
      "cell_type": "markdown",
      "id": "4a259f7f",
      "metadata": {
        "id": "4a259f7f"
      },
      "source": [
        "### 1.2.3 🌟 Some Applications of Machine Learning  \n",
        "\n",
        "Machine learning can tackle an incredible variety of tasks across different domains. Here are some examples:  \n",
        "\n",
        "#### 1. Analyzing Images on a Production Line\n",
        "* **Task:** Automatically classify products.\n",
        "* **Approach:** Image classification, typically performed using convolutional neural networks (CNNs) or transformers.\n",
        "\n",
        "\n",
        "#### 2. Detecting Tumors in Brain Scans\n",
        "* **Task:** Semantic image segmentation (classifying each pixel in the image to determine the exact location and shape of tumors).\n",
        "* **Approach:** Typically achieved using CNNs or transformers.\n",
        "\n",
        "\n",
        "#### 3. Classifying News Articles\n",
        "* **Task:** Text classification in natural language processing (NLP).\n",
        "* **Approach:** Recurrent neural networks (RNNs), CNNs, or transformers (which provide better results).\n",
        "\n",
        "\n",
        "#### 4. Flagging Offensive Comments on Discussion Forums\n",
        "* **Task:** Text classification in NLP.\n",
        "* **Approach:** Similar tools as for news article classification.\n",
        "\n",
        "\n",
        "#### 5. Summarizing Long Documents\n",
        "* **Task:** Text summarization, a branch of NLP.\n",
        "* **Approach:** Uses transformers and other NLP tools.\n",
        "\n",
        "\n",
        "Others include forecasting company revenue, making an app react to voice commands, detecting credit card fraud, segmenting clients based on purchases, visualizing high-dimensional data, recommending products to clients, building an intelligent game bot, and more.\n"
      ]
    },
    {
      "cell_type": "markdown",
      "id": "a65a79f3",
      "metadata": {
        "id": "a65a79f3"
      },
      "source": [
        "### 1.2.4 🏷️ Types of Machine Learning Systems\n",
        "\n",
        "Machine learning systems come in different types, depending on how they work and learn. Let’s break it down in a simple and engaging way:\n",
        "\n",
        "---\n",
        "\n",
        "#### 1. **How They Learn During Training**\n",
        "\n",
        "- **Supervised Learning**\n",
        "  - Imagine having a teacher who gives you both questions and answers to learn from. That’s supervised learning! The system is trained using labeled data (data with known answers).\n",
        "  - **Example**: Predicting house prices based on historical data where the prices are already known.\n",
        "\n",
        "- **Unsupervised Learning**\n",
        "  - Here, there’s no teacher, just patterns to discover. The system learns from unlabeled data, figuring things out on its own.\n",
        "  - **Example**: Grouping similar customers based on their shopping habits using clustering.\n",
        "\n",
        "- **Semi-Supervised Learning**\n",
        "  - This is like having a mix of a few questions with answers and many questions without them. The system learns from a combination of labeled and unlabeled data.\n",
        "  - **Example**: Training a model with some labeled photos and many unlabeled ones.\n",
        "\n",
        "- **Self-Supervised Learning**\n",
        "  - Think of it as a puzzle: the system uses parts of the data to figure out other parts. It generates labels from the data itself.\n",
        "  - **Example**: Predicting the next word in a sentence by learning from previous words.\n",
        "\n",
        "- **Reinforcement Learning**\n",
        "  - Imagine playing a video game where you learn by trial and error. You get rewards for good moves and penalties for bad ones. That’s reinforcement learning!\n",
        "  - **Example**: Teaching a bot to play chess and improve by learning the best moves over time.\n",
        "\n",
        "---\n",
        "\n",
        "#### 2. **How They Handle Data: Online vs. Batch Learning**\n",
        "\n",
        "- **Online Learning**\n",
        "  - The system learns bit by bit, updating itself as new data comes in, like learning on the go.\n",
        "  - **Example**: Predicting stock prices in real-time as new data keeps flowing in.\n",
        "\n",
        "- **Batch Learning**\n",
        "  - Here, the system learns all at once from a complete dataset before it’s ready to be used. It’s like studying an entire textbook before taking the test.\n",
        "  - **Example**: Training a model on a fixed dataset and then deploying it for use.\n",
        "\n",
        "---\n",
        "\n",
        "#### 3. **How They Use Data: Instance-Based vs. Model-Based Learning**\n",
        "\n",
        "- **Instance-Based Learning**\n",
        "  - Think of it as keeping a memory bank of past experiences and comparing new situations to those memories.\n",
        "  - **Example**: k-Nearest Neighbors (k-NN), which classifies data by looking at its closest neighbors.\n",
        "\n",
        "- **Model-Based Learning**\n",
        "  - Here, the system builds a general model based on patterns it finds in the data, like coming up with rules after observing examples.\n",
        "  - **Example**: Linear regression, which predicts outcomes by finding relationships in the data.\n",
        "\n",
        "---\n",
        "\n",
        "By understanding these types, you can see how machines learn and make decisions in different ways. It’s like giving them different strategies to tackle the world’s problems!\n",
        "\n",
        "\n",
        "\n",
        "\n"
      ]
    },
    {
      "cell_type": "markdown",
      "id": "de643b29",
      "metadata": {
        "id": "de643b29"
      },
      "source": [
        "### 1.2.6  🧮 Mathematical Foundations for Machine Learning: Linear Algebra\n",
        "\n",
        "Linear algebra is the foundation of many machine learning algorithms. Let’s break it down into simple terms to understand its key concepts and importance.\n",
        "\n",
        "---\n",
        "\n",
        "#### What Is Linear Algebra?\n",
        "Linear algebra is a branch of mathematics focused on vectors, matrices, and the operations you can perform on them. In machine learning, it helps us represent and manipulate data efficiently.\n",
        "\n",
        "---\n",
        "\n",
        "#### Key Concepts\n",
        "\n",
        "1. **Vectors**\n",
        "   - Think of a vector as an organized list of numbers. It’s often used to represent a single data point.\n",
        "   - **Example**: A person’s features like height, weight, and age can be a vector:\n",
        "     \n",
        "     `[Height, Weight, Age] = [5.9, 72, 30]`\n",
        "\n",
        "2. **Matrices**\n",
        "   - A matrix is like a table with rows and columns, where each row represents a data point and each column represents a feature.\n",
        "   - **Example**:\n",
        "\n",
        "     | Height | Weight | Age |\n",
        "     |--------|--------|-----|\n",
        "     | 5.9    | 72     | 30  |\n",
        "     | 5.6    | 68     | 28  |\n",
        "     | 6.0    | 80     | 32  |\n",
        "\n",
        "3. **Vector and Matrix Operations**\n",
        "   - **Addition/Subtraction**: Combine or compare vectors and matrices.\n",
        "   - **Dot Product**: Measure the similarity between two vectors (used in recommendations or clustering).\n",
        "   - **Matrix Multiplication**: Transform or project data by combining matrices.\n",
        "\n",
        "4. **Similarity Between Vectors**\n",
        "   - Vectors can show how related data points are.\n",
        "   - **Cosine Similarity**: Compares the direction of two vectors, useful for identifying similar products or users in recommendation systems.\n",
        "\n",
        "---\n",
        "\n",
        "#### Why Is Linear Algebra Important in Machine Learning?\n",
        "Linear algebra helps us:\n",
        "- **Organize data**: Represent datasets in ways that are easy to work with.\n",
        "- **Transform data**: Rotate, scale, or project data into different dimensions for better insights.\n",
        "- **Train models**: Perform calculations like gradient descent to optimize machine learning models.\n",
        "\n",
        "In essence, linear algebra gives us the tools to **process and analyze data** efficiently, making machine learning possible.\n",
        "\n",
        "---\n",
        "\n",
        "#### Learn More\n",
        "Dive deeper into linear algebra with these resources:\n",
        "- [Math Linear Algebra Notebook](resources/math_linear_algebra.ipynb)\n",
        "- [Khan Academy: Linear Algebra Lessons](https://www.khanacademy.org/math/linear-algebra)\n",
        "- [Wikipedia: Linear Algebra](https://en.wikipedia.org/wiki/Linear_algebra)\n",
        "- [Free Text on Linear Algebra](https://linear.axler.net/)\n",
        "\n",
        "Linear algebra might seem complex at first, but with practice, it becomes an essential tool in your machine learning journey!\n",
        "\n"
      ]
    },
    {
      "cell_type": "markdown",
      "id": "e12642af",
      "metadata": {
        "id": "e12642af"
      },
      "source": [
        "### 1.2.7 🧮 Mathematical Foundations for Machine Learning: Calculus\n",
        "\n",
        "Calculus plays a crucial role in machine learning, helping models learn and optimize. It’s all about understanding how changes in inputs affect outputs and ensuring models perform at their best.\n",
        "\n",
        "---\n",
        "\n",
        "#### What Is Calculus?\n",
        "Calculus is a branch of mathematics focused on two key ideas:\n",
        "- **Rates of Change (Differentiation):** How things change.\n",
        "- **Accumulation (Integration):** Summing up small parts to understand the whole.\n",
        "\n",
        "In machine learning, we mostly use differentiation.\n",
        "\n",
        "---\n",
        "\n",
        "#### Key Concepts\n",
        "\n",
        "1. **Derivatives (Differentiation):**\n",
        "   - Derivatives measure how a function changes as its input changes.\n",
        "   - In machine learning, they help calculate **gradients**, which are crucial for optimizing models.\n",
        "   - **Example**: Gradients show how to adjust parameters to reduce prediction errors.\n",
        "\n",
        "2. **Gradient Descent:**\n",
        "   - Gradient descent is an algorithm that uses derivatives to find the minimum value of a function (like a loss function).\n",
        "   - It adjusts model parameters step-by-step in the direction that reduces error the fastest.\n",
        "\n",
        "3. **Partial Derivatives:**\n",
        "   - When dealing with multiple variables (like weights in a neural network), partial derivatives show how a function changes with respect to each variable.\n",
        "   - They are essential for training models with many parameters.\n",
        "\n",
        "4. **Chain Rule:**\n",
        "   - The chain rule helps compute derivatives of composite functions.\n",
        "   - It’s a core component of **backpropagation**, the algorithm used to train neural networks.\n",
        "\n",
        "5. **Integration:**\n",
        "   - While less common, integration is useful for calculating areas under curves and probabilistic models, like those in Bayesian inference.\n",
        "\n",
        "---\n",
        "\n",
        "#### Why Is Calculus Important in Machine Learning?\n",
        "- **Optimization:** Calculus minimizes errors by fine-tuning model parameters.\n",
        "- **Training Models:** Neural network training, through backpropagation, relies heavily on differentiation.\n",
        "- **Understanding Change:** Models like regression and neural networks depend on how small changes in inputs impact outputs.\n",
        "\n",
        "In essence, calculus powers the optimization and learning processes that make machine learning models accurate and effective.\n",
        "\n",
        "---\n",
        "\n",
        "#### Learn More\n",
        "To dive deeper into calculus for machine learning, check out these resources:\n",
        "- [Math - Differential Calculus Notebook](resources/math_differential_calculus.ipynb)\n",
        "\n",
        "Calculus might seem daunting, but with practice, it becomes a powerful tool in your machine learning toolkit!\n",
        "\n"
      ]
    },
    {
      "cell_type": "markdown",
      "id": "cb86c91e",
      "metadata": {
        "id": "cb86c91e"
      },
      "source": [
        "# 1.3 🔧 Data Preprocessing: Preparing Data for Machine Learning  \n",
        "\n",
        "Data preprocessing is a critical step in machine learning. Raw data is rarely perfect—it often contains missing values, inconsistent formats, or variables that need to be scaled or encoded. Preprocessing ensures that your data is clean, consistent, and ready for analysis.\n",
        "\n",
        "---\n",
        "\n",
        "### Key Steps in Data Preprocessing  \n",
        "\n",
        "1. **Handling Missing Data:**  \n",
        "   - Missing values can disrupt machine learning models. Here’s how to handle them:  \n",
        "     - **Remove Rows/Columns:** If too many values are missing, it may be better to drop the affected rows or columns.  \n",
        "     - **Imputation:** Replace missing values with an estimate, such as:  \n",
        "       - The mean, median, or mode of the column.  \n",
        "       - A placeholder value (e.g., 0 or “unknown”).  \n",
        "       - Predictions from other data using advanced techniques.  \n",
        "\n",
        "   - **Example:**  \n",
        "     | Name    | Age | Salary  |  \n",
        "     |---------|-----|---------|  \n",
        "     | Alice   | 25  | 50000   |  \n",
        "     | Bob     | NaN | 48000   |  \n",
        "     | Charlie | 30  | NaN     |  \n",
        "     → Replace NaN with the mean value of the column.  \n",
        "\n",
        "2. **Encoding Categorical Variables:**  \n",
        "   - Machine learning models work with numbers, so we need to convert categorical (non-numerical) data into a numerical format:  \n",
        "     - **Label Encoding:** Assign a unique number to each category.  \n",
        "       - Example: `[\"Red\", \"Blue\", \"Green\"] → [0, 1, 2]`  \n",
        "     - **One-Hot Encoding:** Create separate binary columns for each category.  \n",
        "       - Example:  \n",
        "         | Color  | Red | Blue | Green |  \n",
        "         |--------|-----|------|-------|  \n",
        "         | Red    | 1   | 0    | 0     |  \n",
        "         | Blue   | 0   | 1    | 0     |  \n",
        "         | Green  | 0   | 0    | 1     |  \n",
        "\n",
        "3. **Feature Scaling:**  \n",
        "   - Features (variables) can have vastly different ranges, which can negatively affect models (e.g., distance-based models like KNN).  \n",
        "   - Scaling ensures that all features contribute equally to the model. Common methods:  \n",
        "     - **Min-Max Scaling (Normalization):** Rescales values to a range (e.g., 0 to 1).  \n",
        "       - Formula: `(x - min) / (max - min)`  \n",
        "     - **Standardization (Z-Score Scaling):** Centers data around 0 with a standard deviation of 1.  \n",
        "       - Formula: `(x - mean) / std`  \n",
        "\n",
        "---\n",
        "\n",
        "### Why Is Data Preprocessing Important?  \n",
        "- Ensures models can learn effectively from the data.  \n",
        "- Reduces bias caused by missing or inconsistent data.  \n",
        "- Improves accuracy and performance of machine learning models.  \n",
        "\n",
        "Without proper preprocessing, even the best algorithms may fail to deliver meaningful results.  \n"
      ]
    },
    {
      "cell_type": "markdown",
      "id": "ae064547",
      "metadata": {
        "id": "ae064547"
      },
      "source": [
        "## 1.3.1 Example :  Performing Data Preprocessing"
      ]
    },
    {
      "cell_type": "markdown",
      "id": "7c88b791",
      "metadata": {
        "id": "7c88b791"
      },
      "source": [
        "#### Step 1: Importing the libraries\n",
        "**Why?**  \n",
        "To work with data, we need tools. Think of libraries as toolkits for different jobs:\n",
        "- **NumPy** helps us do calculations with numbers.\n",
        "- **Pandas** helps organize and clean data.\n",
        "- **Matplotlib** (not used here) is for creating graphs to visualize data.  \n",
        "\n",
        "**How?**  \n",
        "We load these libraries so we can use their tools in our code.  \n"
      ]
    },
    {
      "cell_type": "code",
      "execution_count": 85,
      "id": "62247f05",
      "metadata": {
        "id": "62247f05"
      },
      "outputs": [],
      "source": [
        "# Step 1: Importing the necessary libraries\n",
        "# numpy: for numerical operations\n",
        "# matplotlib: for data visualization (not used in this example, but commonly included)\n",
        "# pandas: for handling and analyzing datasets\n",
        "\n",
        "import numpy as np\n",
        "import matplotlib.pyplot as plt\n",
        "import pandas as pd"
      ]
    },
    {
      "cell_type": "markdown",
      "id": "c67d8ffd",
      "metadata": {
        "id": "c67d8ffd"
      },
      "source": [
        "#### Step 3: Importing the dataset\n",
        "**Why?**  \n",
        "We need data to teach our machine learning model. The dataset is like a spreadsheet, where:\n",
        "- **Rows** represent different examples (e.g., people, houses, etc.).\n",
        "- **Columns** represent features (e.g., height, weight, price).  \n",
        "\n",
        "**How?**  \n",
        "We load the dataset into our program and split it into two parts:\n",
        "- **Features (X):** The information we use to make predictions.\n",
        "- **Target (y):** The thing we want to predict.  \n",
        "\n",
        "---"
      ]
    },
    {
      "cell_type": "code",
      "source": [
        "# Import Data Files from Google Drive\n",
        "\n",
        "\n",
        "import requests\n",
        "import pandas as pd\n",
        "from io import StringIO\n",
        "def read_gd(sharingurl):\n",
        "    file_id = sharingurl.split('/')[-2]\n",
        "    download_url='https://drive.google.com/uc?export=download&id=' + file_id\n",
        "    url = requests.get(download_url).text\n",
        "    csv_raw = StringIO(url)\n",
        "    return csv_raw\n",
        "\n",
        "url = \"https://drive.google.com/file/d/1NfbiEKdOxWJ-TR9XZLt6-IXECdSPWUD-/view?usp=drive_link\"\n",
        "gdd = read_gd(url)\n",
        "\n",
        "df = pd.read_csv(gdd)\n",
        "\n",
        "dataset = df\n",
        "\n",
        "dataset"
      ],
      "metadata": {
        "colab": {
          "base_uri": "https://localhost:8080/",
          "height": 363
        },
        "id": "8Prus_yUk3_o",
        "outputId": "ac49f5c7-36d5-4f5b-d073-716282ff7612"
      },
      "id": "8Prus_yUk3_o",
      "execution_count": 86,
      "outputs": [
        {
          "output_type": "execute_result",
          "data": {
            "text/plain": [
              "   Country   Age   Salary Purchased\n",
              "0   France  44.0  72000.0        No\n",
              "1    Spain  27.0  48000.0       Yes\n",
              "2  Germany  30.0  54000.0        No\n",
              "3    Spain  38.0  61000.0        No\n",
              "4  Germany  40.0      NaN       Yes\n",
              "5   France  35.0  58000.0       Yes\n",
              "6    Spain   NaN  52000.0        No\n",
              "7   France  48.0  79000.0       Yes\n",
              "8  Germany  50.0  83000.0        No\n",
              "9   France  37.0  67000.0       Yes"
            ],
            "text/html": [
              "\n",
              "  <div id=\"df-ba12e1c6-ad9d-4ce8-a103-ddb0735aad7e\" class=\"colab-df-container\">\n",
              "    <div>\n",
              "<style scoped>\n",
              "    .dataframe tbody tr th:only-of-type {\n",
              "        vertical-align: middle;\n",
              "    }\n",
              "\n",
              "    .dataframe tbody tr th {\n",
              "        vertical-align: top;\n",
              "    }\n",
              "\n",
              "    .dataframe thead th {\n",
              "        text-align: right;\n",
              "    }\n",
              "</style>\n",
              "<table border=\"1\" class=\"dataframe\">\n",
              "  <thead>\n",
              "    <tr style=\"text-align: right;\">\n",
              "      <th></th>\n",
              "      <th>Country</th>\n",
              "      <th>Age</th>\n",
              "      <th>Salary</th>\n",
              "      <th>Purchased</th>\n",
              "    </tr>\n",
              "  </thead>\n",
              "  <tbody>\n",
              "    <tr>\n",
              "      <th>0</th>\n",
              "      <td>France</td>\n",
              "      <td>44.0</td>\n",
              "      <td>72000.0</td>\n",
              "      <td>No</td>\n",
              "    </tr>\n",
              "    <tr>\n",
              "      <th>1</th>\n",
              "      <td>Spain</td>\n",
              "      <td>27.0</td>\n",
              "      <td>48000.0</td>\n",
              "      <td>Yes</td>\n",
              "    </tr>\n",
              "    <tr>\n",
              "      <th>2</th>\n",
              "      <td>Germany</td>\n",
              "      <td>30.0</td>\n",
              "      <td>54000.0</td>\n",
              "      <td>No</td>\n",
              "    </tr>\n",
              "    <tr>\n",
              "      <th>3</th>\n",
              "      <td>Spain</td>\n",
              "      <td>38.0</td>\n",
              "      <td>61000.0</td>\n",
              "      <td>No</td>\n",
              "    </tr>\n",
              "    <tr>\n",
              "      <th>4</th>\n",
              "      <td>Germany</td>\n",
              "      <td>40.0</td>\n",
              "      <td>NaN</td>\n",
              "      <td>Yes</td>\n",
              "    </tr>\n",
              "    <tr>\n",
              "      <th>5</th>\n",
              "      <td>France</td>\n",
              "      <td>35.0</td>\n",
              "      <td>58000.0</td>\n",
              "      <td>Yes</td>\n",
              "    </tr>\n",
              "    <tr>\n",
              "      <th>6</th>\n",
              "      <td>Spain</td>\n",
              "      <td>NaN</td>\n",
              "      <td>52000.0</td>\n",
              "      <td>No</td>\n",
              "    </tr>\n",
              "    <tr>\n",
              "      <th>7</th>\n",
              "      <td>France</td>\n",
              "      <td>48.0</td>\n",
              "      <td>79000.0</td>\n",
              "      <td>Yes</td>\n",
              "    </tr>\n",
              "    <tr>\n",
              "      <th>8</th>\n",
              "      <td>Germany</td>\n",
              "      <td>50.0</td>\n",
              "      <td>83000.0</td>\n",
              "      <td>No</td>\n",
              "    </tr>\n",
              "    <tr>\n",
              "      <th>9</th>\n",
              "      <td>France</td>\n",
              "      <td>37.0</td>\n",
              "      <td>67000.0</td>\n",
              "      <td>Yes</td>\n",
              "    </tr>\n",
              "  </tbody>\n",
              "</table>\n",
              "</div>\n",
              "    <div class=\"colab-df-buttons\">\n",
              "\n",
              "  <div class=\"colab-df-container\">\n",
              "    <button class=\"colab-df-convert\" onclick=\"convertToInteractive('df-ba12e1c6-ad9d-4ce8-a103-ddb0735aad7e')\"\n",
              "            title=\"Convert this dataframe to an interactive table.\"\n",
              "            style=\"display:none;\">\n",
              "\n",
              "  <svg xmlns=\"http://www.w3.org/2000/svg\" height=\"24px\" viewBox=\"0 -960 960 960\">\n",
              "    <path d=\"M120-120v-720h720v720H120Zm60-500h600v-160H180v160Zm220 220h160v-160H400v160Zm0 220h160v-160H400v160ZM180-400h160v-160H180v160Zm440 0h160v-160H620v160ZM180-180h160v-160H180v160Zm440 0h160v-160H620v160Z\"/>\n",
              "  </svg>\n",
              "    </button>\n",
              "\n",
              "  <style>\n",
              "    .colab-df-container {\n",
              "      display:flex;\n",
              "      gap: 12px;\n",
              "    }\n",
              "\n",
              "    .colab-df-convert {\n",
              "      background-color: #E8F0FE;\n",
              "      border: none;\n",
              "      border-radius: 50%;\n",
              "      cursor: pointer;\n",
              "      display: none;\n",
              "      fill: #1967D2;\n",
              "      height: 32px;\n",
              "      padding: 0 0 0 0;\n",
              "      width: 32px;\n",
              "    }\n",
              "\n",
              "    .colab-df-convert:hover {\n",
              "      background-color: #E2EBFA;\n",
              "      box-shadow: 0px 1px 2px rgba(60, 64, 67, 0.3), 0px 1px 3px 1px rgba(60, 64, 67, 0.15);\n",
              "      fill: #174EA6;\n",
              "    }\n",
              "\n",
              "    .colab-df-buttons div {\n",
              "      margin-bottom: 4px;\n",
              "    }\n",
              "\n",
              "    [theme=dark] .colab-df-convert {\n",
              "      background-color: #3B4455;\n",
              "      fill: #D2E3FC;\n",
              "    }\n",
              "\n",
              "    [theme=dark] .colab-df-convert:hover {\n",
              "      background-color: #434B5C;\n",
              "      box-shadow: 0px 1px 3px 1px rgba(0, 0, 0, 0.15);\n",
              "      filter: drop-shadow(0px 1px 2px rgba(0, 0, 0, 0.3));\n",
              "      fill: #FFFFFF;\n",
              "    }\n",
              "  </style>\n",
              "\n",
              "    <script>\n",
              "      const buttonEl =\n",
              "        document.querySelector('#df-ba12e1c6-ad9d-4ce8-a103-ddb0735aad7e button.colab-df-convert');\n",
              "      buttonEl.style.display =\n",
              "        google.colab.kernel.accessAllowed ? 'block' : 'none';\n",
              "\n",
              "      async function convertToInteractive(key) {\n",
              "        const element = document.querySelector('#df-ba12e1c6-ad9d-4ce8-a103-ddb0735aad7e');\n",
              "        const dataTable =\n",
              "          await google.colab.kernel.invokeFunction('convertToInteractive',\n",
              "                                                    [key], {});\n",
              "        if (!dataTable) return;\n",
              "\n",
              "        const docLinkHtml = 'Like what you see? Visit the ' +\n",
              "          '<a target=\"_blank\" href=https://colab.research.google.com/notebooks/data_table.ipynb>data table notebook</a>'\n",
              "          + ' to learn more about interactive tables.';\n",
              "        element.innerHTML = '';\n",
              "        dataTable['output_type'] = 'display_data';\n",
              "        await google.colab.output.renderOutput(dataTable, element);\n",
              "        const docLink = document.createElement('div');\n",
              "        docLink.innerHTML = docLinkHtml;\n",
              "        element.appendChild(docLink);\n",
              "      }\n",
              "    </script>\n",
              "  </div>\n",
              "\n",
              "\n",
              "    <div id=\"df-20c69b6b-cde7-4185-8713-11384b5ca000\">\n",
              "      <button class=\"colab-df-quickchart\" onclick=\"quickchart('df-20c69b6b-cde7-4185-8713-11384b5ca000')\"\n",
              "                title=\"Suggest charts\"\n",
              "                style=\"display:none;\">\n",
              "\n",
              "<svg xmlns=\"http://www.w3.org/2000/svg\" height=\"24px\"viewBox=\"0 0 24 24\"\n",
              "     width=\"24px\">\n",
              "    <g>\n",
              "        <path d=\"M19 3H5c-1.1 0-2 .9-2 2v14c0 1.1.9 2 2 2h14c1.1 0 2-.9 2-2V5c0-1.1-.9-2-2-2zM9 17H7v-7h2v7zm4 0h-2V7h2v10zm4 0h-2v-4h2v4z\"/>\n",
              "    </g>\n",
              "</svg>\n",
              "      </button>\n",
              "\n",
              "<style>\n",
              "  .colab-df-quickchart {\n",
              "      --bg-color: #E8F0FE;\n",
              "      --fill-color: #1967D2;\n",
              "      --hover-bg-color: #E2EBFA;\n",
              "      --hover-fill-color: #174EA6;\n",
              "      --disabled-fill-color: #AAA;\n",
              "      --disabled-bg-color: #DDD;\n",
              "  }\n",
              "\n",
              "  [theme=dark] .colab-df-quickchart {\n",
              "      --bg-color: #3B4455;\n",
              "      --fill-color: #D2E3FC;\n",
              "      --hover-bg-color: #434B5C;\n",
              "      --hover-fill-color: #FFFFFF;\n",
              "      --disabled-bg-color: #3B4455;\n",
              "      --disabled-fill-color: #666;\n",
              "  }\n",
              "\n",
              "  .colab-df-quickchart {\n",
              "    background-color: var(--bg-color);\n",
              "    border: none;\n",
              "    border-radius: 50%;\n",
              "    cursor: pointer;\n",
              "    display: none;\n",
              "    fill: var(--fill-color);\n",
              "    height: 32px;\n",
              "    padding: 0;\n",
              "    width: 32px;\n",
              "  }\n",
              "\n",
              "  .colab-df-quickchart:hover {\n",
              "    background-color: var(--hover-bg-color);\n",
              "    box-shadow: 0 1px 2px rgba(60, 64, 67, 0.3), 0 1px 3px 1px rgba(60, 64, 67, 0.15);\n",
              "    fill: var(--button-hover-fill-color);\n",
              "  }\n",
              "\n",
              "  .colab-df-quickchart-complete:disabled,\n",
              "  .colab-df-quickchart-complete:disabled:hover {\n",
              "    background-color: var(--disabled-bg-color);\n",
              "    fill: var(--disabled-fill-color);\n",
              "    box-shadow: none;\n",
              "  }\n",
              "\n",
              "  .colab-df-spinner {\n",
              "    border: 2px solid var(--fill-color);\n",
              "    border-color: transparent;\n",
              "    border-bottom-color: var(--fill-color);\n",
              "    animation:\n",
              "      spin 1s steps(1) infinite;\n",
              "  }\n",
              "\n",
              "  @keyframes spin {\n",
              "    0% {\n",
              "      border-color: transparent;\n",
              "      border-bottom-color: var(--fill-color);\n",
              "      border-left-color: var(--fill-color);\n",
              "    }\n",
              "    20% {\n",
              "      border-color: transparent;\n",
              "      border-left-color: var(--fill-color);\n",
              "      border-top-color: var(--fill-color);\n",
              "    }\n",
              "    30% {\n",
              "      border-color: transparent;\n",
              "      border-left-color: var(--fill-color);\n",
              "      border-top-color: var(--fill-color);\n",
              "      border-right-color: var(--fill-color);\n",
              "    }\n",
              "    40% {\n",
              "      border-color: transparent;\n",
              "      border-right-color: var(--fill-color);\n",
              "      border-top-color: var(--fill-color);\n",
              "    }\n",
              "    60% {\n",
              "      border-color: transparent;\n",
              "      border-right-color: var(--fill-color);\n",
              "    }\n",
              "    80% {\n",
              "      border-color: transparent;\n",
              "      border-right-color: var(--fill-color);\n",
              "      border-bottom-color: var(--fill-color);\n",
              "    }\n",
              "    90% {\n",
              "      border-color: transparent;\n",
              "      border-bottom-color: var(--fill-color);\n",
              "    }\n",
              "  }\n",
              "</style>\n",
              "\n",
              "      <script>\n",
              "        async function quickchart(key) {\n",
              "          const quickchartButtonEl =\n",
              "            document.querySelector('#' + key + ' button');\n",
              "          quickchartButtonEl.disabled = true;  // To prevent multiple clicks.\n",
              "          quickchartButtonEl.classList.add('colab-df-spinner');\n",
              "          try {\n",
              "            const charts = await google.colab.kernel.invokeFunction(\n",
              "                'suggestCharts', [key], {});\n",
              "          } catch (error) {\n",
              "            console.error('Error during call to suggestCharts:', error);\n",
              "          }\n",
              "          quickchartButtonEl.classList.remove('colab-df-spinner');\n",
              "          quickchartButtonEl.classList.add('colab-df-quickchart-complete');\n",
              "        }\n",
              "        (() => {\n",
              "          let quickchartButtonEl =\n",
              "            document.querySelector('#df-20c69b6b-cde7-4185-8713-11384b5ca000 button');\n",
              "          quickchartButtonEl.style.display =\n",
              "            google.colab.kernel.accessAllowed ? 'block' : 'none';\n",
              "        })();\n",
              "      </script>\n",
              "    </div>\n",
              "\n",
              "  <div id=\"id_631fcb5b-340d-4d44-b3ed-16b8eef0c8bb\">\n",
              "    <style>\n",
              "      .colab-df-generate {\n",
              "        background-color: #E8F0FE;\n",
              "        border: none;\n",
              "        border-radius: 50%;\n",
              "        cursor: pointer;\n",
              "        display: none;\n",
              "        fill: #1967D2;\n",
              "        height: 32px;\n",
              "        padding: 0 0 0 0;\n",
              "        width: 32px;\n",
              "      }\n",
              "\n",
              "      .colab-df-generate:hover {\n",
              "        background-color: #E2EBFA;\n",
              "        box-shadow: 0px 1px 2px rgba(60, 64, 67, 0.3), 0px 1px 3px 1px rgba(60, 64, 67, 0.15);\n",
              "        fill: #174EA6;\n",
              "      }\n",
              "\n",
              "      [theme=dark] .colab-df-generate {\n",
              "        background-color: #3B4455;\n",
              "        fill: #D2E3FC;\n",
              "      }\n",
              "\n",
              "      [theme=dark] .colab-df-generate:hover {\n",
              "        background-color: #434B5C;\n",
              "        box-shadow: 0px 1px 3px 1px rgba(0, 0, 0, 0.15);\n",
              "        filter: drop-shadow(0px 1px 2px rgba(0, 0, 0, 0.3));\n",
              "        fill: #FFFFFF;\n",
              "      }\n",
              "    </style>\n",
              "    <button class=\"colab-df-generate\" onclick=\"generateWithVariable('df')\"\n",
              "            title=\"Generate code using this dataframe.\"\n",
              "            style=\"display:none;\">\n",
              "\n",
              "  <svg xmlns=\"http://www.w3.org/2000/svg\" height=\"24px\"viewBox=\"0 0 24 24\"\n",
              "       width=\"24px\">\n",
              "    <path d=\"M7,19H8.4L18.45,9,17,7.55,7,17.6ZM5,21V16.75L18.45,3.32a2,2,0,0,1,2.83,0l1.4,1.43a1.91,1.91,0,0,1,.58,1.4,1.91,1.91,0,0,1-.58,1.4L9.25,21ZM18.45,9,17,7.55Zm-12,3A5.31,5.31,0,0,0,4.9,8.1,5.31,5.31,0,0,0,1,6.5,5.31,5.31,0,0,0,4.9,4.9,5.31,5.31,0,0,0,6.5,1,5.31,5.31,0,0,0,8.1,4.9,5.31,5.31,0,0,0,12,6.5,5.46,5.46,0,0,0,6.5,12Z\"/>\n",
              "  </svg>\n",
              "    </button>\n",
              "    <script>\n",
              "      (() => {\n",
              "      const buttonEl =\n",
              "        document.querySelector('#id_631fcb5b-340d-4d44-b3ed-16b8eef0c8bb button.colab-df-generate');\n",
              "      buttonEl.style.display =\n",
              "        google.colab.kernel.accessAllowed ? 'block' : 'none';\n",
              "\n",
              "      buttonEl.onclick = () => {\n",
              "        google.colab.notebook.generateWithVariable('df');\n",
              "      }\n",
              "      })();\n",
              "    </script>\n",
              "  </div>\n",
              "\n",
              "    </div>\n",
              "  </div>\n"
            ],
            "application/vnd.google.colaboratory.intrinsic+json": {
              "type": "dataframe",
              "variable_name": "df",
              "summary": "{\n  \"name\": \"df\",\n  \"rows\": 10,\n  \"fields\": [\n    {\n      \"column\": \"Country\",\n      \"properties\": {\n        \"dtype\": \"category\",\n        \"num_unique_values\": 3,\n        \"samples\": [\n          \"France\",\n          \"Spain\",\n          \"Germany\"\n        ],\n        \"semantic_type\": \"\",\n        \"description\": \"\"\n      }\n    },\n    {\n      \"column\": \"Age\",\n      \"properties\": {\n        \"dtype\": \"number\",\n        \"std\": 7.693792591722527,\n        \"min\": 27.0,\n        \"max\": 50.0,\n        \"num_unique_values\": 9,\n        \"samples\": [\n          50.0,\n          27.0,\n          35.0\n        ],\n        \"semantic_type\": \"\",\n        \"description\": \"\"\n      }\n    },\n    {\n      \"column\": \"Salary\",\n      \"properties\": {\n        \"dtype\": \"number\",\n        \"std\": 12265.579661982732,\n        \"min\": 48000.0,\n        \"max\": 83000.0,\n        \"num_unique_values\": 9,\n        \"samples\": [\n          83000.0,\n          48000.0,\n          52000.0\n        ],\n        \"semantic_type\": \"\",\n        \"description\": \"\"\n      }\n    },\n    {\n      \"column\": \"Purchased\",\n      \"properties\": {\n        \"dtype\": \"category\",\n        \"num_unique_values\": 2,\n        \"samples\": [\n          \"Yes\",\n          \"No\"\n        ],\n        \"semantic_type\": \"\",\n        \"description\": \"\"\n      }\n    }\n  ]\n}"
            }
          },
          "metadata": {},
          "execution_count": 86
        }
      ]
    },
    {
      "cell_type": "code",
      "execution_count": 87,
      "id": "480613a3",
      "metadata": {
        "id": "480613a3"
      },
      "outputs": [],
      "source": [
        "# Step 2: Importing the dataset locally\n",
        "# Load data from a CSV file and separate it into features (X) and target (y).\n",
        "\n",
        "# dataset = pd.read_csv('sample_data/Data.csv')\n",
        "X = dataset.iloc[:, :-1].values  # Select all rows and all columns except the last one\n",
        "y = dataset.iloc[:, -1].values  # Select all rows from the last column"
      ]
    },
    {
      "cell_type": "code",
      "execution_count": 88,
      "id": "31ee8849",
      "metadata": {
        "colab": {
          "base_uri": "https://localhost:8080/"
        },
        "id": "31ee8849",
        "outputId": "3b03698c-02eb-4067-a6c8-42f22ce5db45"
      },
      "outputs": [
        {
          "output_type": "stream",
          "name": "stdout",
          "text": [
            "[['France' 44.0 72000.0]\n",
            " ['Spain' 27.0 48000.0]\n",
            " ['Germany' 30.0 54000.0]\n",
            " ['Spain' 38.0 61000.0]\n",
            " ['Germany' 40.0 nan]\n",
            " ['France' 35.0 58000.0]\n",
            " ['Spain' nan 52000.0]\n",
            " ['France' 48.0 79000.0]\n",
            " ['Germany' 50.0 83000.0]\n",
            " ['France' 37.0 67000.0]]\n"
          ]
        }
      ],
      "source": [
        "# Print the feature matrix and target vector to verify the data\n",
        "\n",
        "print(X)"
      ]
    },
    {
      "cell_type": "code",
      "execution_count": 89,
      "id": "2900d274",
      "metadata": {
        "colab": {
          "base_uri": "https://localhost:8080/"
        },
        "id": "2900d274",
        "outputId": "20522ead-bc54-403e-ffb6-858ab3da9c2c"
      },
      "outputs": [
        {
          "output_type": "stream",
          "name": "stdout",
          "text": [
            "['No' 'Yes' 'No' 'No' 'Yes' 'Yes' 'No' 'Yes' 'No' 'Yes']\n"
          ]
        }
      ],
      "source": [
        "print(y)"
      ]
    },
    {
      "cell_type": "markdown",
      "id": "827525fc",
      "metadata": {
        "id": "827525fc"
      },
      "source": [
        "#### Step 3: Taking care of missing data\n",
        "**Why?**  \n",
        "Sometimes data is incomplete (e.g., a person forgot to write their age). Missing data can confuse the model.  \n",
        "\n",
        "**How?**  \n",
        "We fill in the blanks with reasonable values. Here, we use the **mean** (average) of the other values in the same column. This way, we don’t lose useful information.  \n",
        "\n",
        "---"
      ]
    },
    {
      "cell_type": "code",
      "execution_count": 90,
      "id": "01388d65",
      "metadata": {
        "id": "01388d65"
      },
      "outputs": [],
      "source": [
        "# Step 3: Handling missing data\n",
        "# Replace missing values in specific columns with the mean of those columns\n",
        "\n",
        "\n",
        "from sklearn.impute import SimpleImputer\n",
        "imputer = SimpleImputer(missing_values=np.nan, strategy='mean')  # Define the imputer\n",
        "imputer.fit(X[:, 1:3]) # Fit the imputer on columns with missing values\n",
        "X[:, 1:3] = imputer.transform(X[:, 1:3])  # Apply the transformation"
      ]
    },
    {
      "cell_type": "code",
      "execution_count": 91,
      "id": "31b828cc",
      "metadata": {
        "colab": {
          "base_uri": "https://localhost:8080/"
        },
        "id": "31b828cc",
        "outputId": "543469be-75e2-4c8f-dd29-614a75609896"
      },
      "outputs": [
        {
          "output_type": "stream",
          "name": "stdout",
          "text": [
            "[['France' 44.0 72000.0]\n",
            " ['Spain' 27.0 48000.0]\n",
            " ['Germany' 30.0 54000.0]\n",
            " ['Spain' 38.0 61000.0]\n",
            " ['Germany' 40.0 63777.77777777778]\n",
            " ['France' 35.0 58000.0]\n",
            " ['Spain' 38.77777777777778 52000.0]\n",
            " ['France' 48.0 79000.0]\n",
            " ['Germany' 50.0 83000.0]\n",
            " ['France' 37.0 67000.0]]\n"
          ]
        }
      ],
      "source": [
        "# Print the updated feature matrix\n",
        "print(X)"
      ]
    },
    {
      "cell_type": "markdown",
      "id": "9edd055b",
      "metadata": {
        "id": "9edd055b"
      },
      "source": [
        "#### Step 4:  Encoding categorical data\n",
        "**Why?**  \n",
        "Computers don’t understand words like \"red\" or \"cat.\" They need numbers.  \n",
        "- For example, \"Red, Green, Blue\" could become [1, 2, 3].  \n",
        "Some data might need to be split into multiple columns to avoid confusion (e.g., One-Hot Encoding).  \n",
        "\n",
        "**How?**  \n",
        "We convert categories into numbers for:\n",
        "- **Features:** By creating separate columns for each category (e.g., \"Red,\" \"Green,\" \"Blue\" become three columns).\n",
        "- **Target (y):** By assigning numbers to each category (e.g., \"Yes\" becomes 1, \"No\" becomes 0).  \n",
        "\n",
        "---"
      ]
    },
    {
      "cell_type": "markdown",
      "id": "77901191",
      "metadata": {
        "id": "77901191"
      },
      "source": [
        "##### Encoding the Independent Variable"
      ]
    },
    {
      "cell_type": "code",
      "execution_count": 92,
      "id": "5b545036",
      "metadata": {
        "id": "5b545036"
      },
      "outputs": [],
      "source": [
        "# Step 4: Encoding categorical data\n",
        "# Convert categorical data into numeric representations for compatibility with ML algorithms\n",
        "\n",
        "# Encoding the Independent Variable (categorical feature in the first column)\n",
        "\n",
        "from sklearn.compose import ColumnTransformer\n",
        "from sklearn.preprocessing import OneHotEncoder\n",
        "ct = ColumnTransformer(transformers=[('encoder', OneHotEncoder(), [0])], remainder='passthrough')\n",
        "X = np.array(ct.fit_transform(X))  # Apply one-hot encoding and convert to numpy array"
      ]
    },
    {
      "cell_type": "code",
      "execution_count": 93,
      "id": "eb9ddc9a",
      "metadata": {
        "colab": {
          "base_uri": "https://localhost:8080/"
        },
        "id": "eb9ddc9a",
        "outputId": "784b1b1e-3d39-43e7-cf44-8a0b3c19f9d7"
      },
      "outputs": [
        {
          "output_type": "stream",
          "name": "stdout",
          "text": [
            "[[1.0 0.0 0.0 44.0 72000.0]\n",
            " [0.0 0.0 1.0 27.0 48000.0]\n",
            " [0.0 1.0 0.0 30.0 54000.0]\n",
            " [0.0 0.0 1.0 38.0 61000.0]\n",
            " [0.0 1.0 0.0 40.0 63777.77777777778]\n",
            " [1.0 0.0 0.0 35.0 58000.0]\n",
            " [0.0 0.0 1.0 38.77777777777778 52000.0]\n",
            " [1.0 0.0 0.0 48.0 79000.0]\n",
            " [0.0 1.0 0.0 50.0 83000.0]\n",
            " [1.0 0.0 0.0 37.0 67000.0]]\n"
          ]
        }
      ],
      "source": [
        "# Print the updated feature matrix after encoding\n",
        "print(X)"
      ]
    },
    {
      "cell_type": "markdown",
      "id": "32f419a8",
      "metadata": {
        "id": "32f419a8"
      },
      "source": [
        "##### Encoding the Dependent Variable"
      ]
    },
    {
      "cell_type": "code",
      "execution_count": 94,
      "id": "32d2f02b",
      "metadata": {
        "id": "32d2f02b"
      },
      "outputs": [],
      "source": [
        "# Encoding the Dependent Variable (target variable)\n",
        "\n",
        "from sklearn.preprocessing import LabelEncoder\n",
        "le = LabelEncoder()\n",
        "y = le.fit_transform(y) # Convert categories to numeric labels"
      ]
    },
    {
      "cell_type": "code",
      "execution_count": 95,
      "id": "b2b0ba59",
      "metadata": {
        "colab": {
          "base_uri": "https://localhost:8080/"
        },
        "id": "b2b0ba59",
        "outputId": "d07a898e-39e0-4494-ad16-0cf71b240b9c"
      },
      "outputs": [
        {
          "output_type": "stream",
          "name": "stdout",
          "text": [
            "[0 1 0 0 1 1 0 1 0 1]\n"
          ]
        }
      ],
      "source": [
        "# Print the updated target vector\n",
        "print(y)"
      ]
    },
    {
      "cell_type": "markdown",
      "id": "0485a001",
      "metadata": {
        "id": "0485a001"
      },
      "source": [
        "#### Step 5: Splitting the dataset into the Training set and Test set\n",
        "**Why?**  \n",
        "We need to test how well our model can predict things it hasn’t seen before. So, we divide the dataset into:\n",
        "- **Training Set:** Data the model learns from.\n",
        "- **Test Set:** Data we use to check how well the model has learned.  \n",
        "\n",
        "**How?**  \n",
        "We split the data into two parts, often keeping 80% for training and 20% for testing.  \n",
        "\n",
        "---"
      ]
    },
    {
      "cell_type": "code",
      "execution_count": 96,
      "id": "5af13231",
      "metadata": {
        "id": "5af13231"
      },
      "outputs": [],
      "source": [
        "# Step 5: Splitting the dataset into the Training set and Test set\n",
        "# Separate the data into training and test sets for model evaluation\n",
        "\n",
        "from sklearn.model_selection import train_test_split\n",
        "X_train, X_test, y_train, y_test = train_test_split(X, y, test_size = 0.2, random_state = 1)"
      ]
    },
    {
      "cell_type": "code",
      "execution_count": 97,
      "id": "5a90f10c",
      "metadata": {
        "colab": {
          "base_uri": "https://localhost:8080/"
        },
        "id": "5a90f10c",
        "outputId": "8120f3f7-1c58-4594-b6c5-a7607d259c12"
      },
      "outputs": [
        {
          "output_type": "stream",
          "name": "stdout",
          "text": [
            "[[0.0 0.0 1.0 38.77777777777778 52000.0]\n",
            " [0.0 1.0 0.0 40.0 63777.77777777778]\n",
            " [1.0 0.0 0.0 44.0 72000.0]\n",
            " [0.0 0.0 1.0 38.0 61000.0]\n",
            " [0.0 0.0 1.0 27.0 48000.0]\n",
            " [1.0 0.0 0.0 48.0 79000.0]\n",
            " [0.0 1.0 0.0 50.0 83000.0]\n",
            " [1.0 0.0 0.0 35.0 58000.0]]\n"
          ]
        }
      ],
      "source": [
        "# Print the split datasets\n",
        "print(X_train)"
      ]
    },
    {
      "cell_type": "code",
      "execution_count": 98,
      "id": "277a076a",
      "metadata": {
        "colab": {
          "base_uri": "https://localhost:8080/"
        },
        "id": "277a076a",
        "outputId": "a897e95a-bbbc-4db4-8598-2dc4bdc92330"
      },
      "outputs": [
        {
          "output_type": "stream",
          "name": "stdout",
          "text": [
            "[[0.0 1.0 0.0 30.0 54000.0]\n",
            " [1.0 0.0 0.0 37.0 67000.0]]\n"
          ]
        }
      ],
      "source": [
        "print(X_test)"
      ]
    },
    {
      "cell_type": "code",
      "execution_count": 99,
      "id": "110b75ba",
      "metadata": {
        "colab": {
          "base_uri": "https://localhost:8080/"
        },
        "id": "110b75ba",
        "outputId": "7acefe57-9a92-431b-c83c-c89641161ea6"
      },
      "outputs": [
        {
          "output_type": "stream",
          "name": "stdout",
          "text": [
            "[0 1 0 0 1 1 0 1]\n"
          ]
        }
      ],
      "source": [
        "print(y_train)"
      ]
    },
    {
      "cell_type": "code",
      "execution_count": 100,
      "id": "bc45a49b",
      "metadata": {
        "colab": {
          "base_uri": "https://localhost:8080/"
        },
        "id": "bc45a49b",
        "outputId": "8778fa98-ae20-4654-b117-adcd93fdbddf"
      },
      "outputs": [
        {
          "output_type": "stream",
          "name": "stdout",
          "text": [
            "[0 1]\n"
          ]
        }
      ],
      "source": [
        "print(y_test)"
      ]
    },
    {
      "cell_type": "markdown",
      "id": "854652de",
      "metadata": {
        "id": "854652de"
      },
      "source": [
        "#### Step 6: Feature Scaling\n",
        "**Why?**  \n",
        "Some features (e.g., age vs. salary) have very different ranges. This can make the model favor one feature over another. For example, if one column has values like 100,000 and another has values like 5, the model might think the bigger numbers are more important.  \n",
        "\n",
        "**How?**  \n",
        "We scale all features to the same range so they’re treated equally. This ensures the model focuses on relationships, not just the size of the numbers.  \n",
        "\n",
        "---"
      ]
    },
    {
      "cell_type": "code",
      "execution_count": 101,
      "id": "f360bee7",
      "metadata": {
        "id": "f360bee7"
      },
      "outputs": [],
      "source": [
        "# Step 6: Feature Scaling\n",
        "# Standardize features by removing the mean and scaling to unit variance\n",
        "\n",
        "\n",
        "from sklearn.preprocessing import StandardScaler\n",
        "sc = StandardScaler()\n",
        "X_train[:, 4:] = sc.fit_transform(X_train[:, 4:]) # Fit and transform the training data (only numerical columns)\n",
        "X_test[:, 4:] = sc.transform(X_test[:, 4:])  # Transform the test data using the same scaler"
      ]
    },
    {
      "cell_type": "code",
      "execution_count": 102,
      "id": "0c42af2b",
      "metadata": {
        "colab": {
          "base_uri": "https://localhost:8080/"
        },
        "id": "0c42af2b",
        "outputId": "650be078-af8a-461d-f3b8-b35cd6869606"
      },
      "outputs": [
        {
          "output_type": "stream",
          "name": "stdout",
          "text": [
            "[[0.0 0.0 1.0 38.77777777777778 -1.0781259408412422]\n",
            " [0.0 1.0 0.0 40.0 -0.0701316764163537]\n",
            " [1.0 0.0 0.0 44.0 0.6335624327104549]\n",
            " [0.0 0.0 1.0 38.0 -0.3078661727429786]\n",
            " [0.0 0.0 1.0 27.0 -1.4204636155515817]\n",
            " [1.0 0.0 0.0 48.0 1.2326533634535488]\n",
            " [0.0 1.0 0.0 50.0 1.5749910381638883]\n",
            " [1.0 0.0 0.0 35.0 -0.5646194287757332]]\n"
          ]
        }
      ],
      "source": [
        "# Print the scaled datasets\n",
        "print(X_train)"
      ]
    },
    {
      "cell_type": "code",
      "execution_count": 103,
      "id": "4ef35368",
      "metadata": {
        "colab": {
          "base_uri": "https://localhost:8080/"
        },
        "id": "4ef35368",
        "outputId": "04344da7-2ea7-4075-a160-a7ca7e41207e"
      },
      "outputs": [
        {
          "output_type": "stream",
          "name": "stdout",
          "text": [
            "[[0.0 1.0 0.0 30.0 -0.9069571034860726]\n",
            " [1.0 0.0 0.0 37.0 0.20564033932253056]]\n"
          ]
        }
      ],
      "source": [
        "print(X_test)"
      ]
    },
    {
      "cell_type": "markdown",
      "id": "afe0c03b",
      "metadata": {
        "id": "afe0c03b"
      },
      "source": [
        "# 1.4 Machine Learning Algorithms\n",
        "\n",
        "There are a couple of Machine Learning Algorithms broadly classified into the following headings:\n",
        "\n",
        "### 1. Regression Algorithms\n",
        "- **Simple Linear Regression**  \n",
        "- **Multiple Linear Regression**  \n",
        "- **Polynomial Regression**  \n",
        "- **Support Vector Regression (SVR)**  \n",
        "- **Random Forest Regression**  \n",
        "\n",
        "### 2. Classification Algorithms\n",
        "- **Logistic Regression**  \n",
        "- **K-Nearest Neighbours (kNN)**  \n",
        "- **Support Vector Machines (SVM)**  \n",
        "- **Kernel SVM**  \n",
        "- **Naive Bayes**  \n",
        "- **Decision Tree Classification**  \n",
        "- **Random Forest Classification**  \n",
        "\n",
        "### 3. Clustering Algorithms\n",
        "- **K-Means Clustering**  \n",
        "- **Hierarchical Clustering**  \n",
        "\n",
        "\n",
        "We will look at some of these in the coming lessons"
      ]
    },
    {
      "cell_type": "markdown",
      "id": "7ce0e825",
      "metadata": {
        "id": "7ce0e825"
      },
      "source": [
        "# **Conclusion**\n",
        "\n",
        "Artificial Intelligence and Machine Learning have transformed how we approach problem-solving, enabling systems to learn from data and make predictions or decisions. In this lecture, we explored the core principles and mathematical foundations underpinning these technologies, along with the data preprocessing steps that form the bedrock of every machine learning project. Remember, the success of any AI system begins with well-prepared data and a strong understanding of the concepts driving it. As you move forward, focus on honing these skills and applying them to real-world challenges. The potential is limitless—what you create with it is up to you!"
      ]
    },
    {
      "cell_type": "code",
      "execution_count": 103,
      "id": "815992e7",
      "metadata": {
        "id": "815992e7"
      },
      "outputs": [],
      "source": []
    }
  ],
  "metadata": {
    "kernelspec": {
      "display_name": "Python 3 (ipykernel)",
      "language": "python",
      "name": "python3"
    },
    "language_info": {
      "codemirror_mode": {
        "name": "ipython",
        "version": 3
      },
      "file_extension": ".py",
      "mimetype": "text/x-python",
      "name": "python",
      "nbconvert_exporter": "python",
      "pygments_lexer": "ipython3",
      "version": "3.9.13"
    },
    "colab": {
      "provenance": [],
      "include_colab_link": true
    }
  },
  "nbformat": 4,
  "nbformat_minor": 5
}